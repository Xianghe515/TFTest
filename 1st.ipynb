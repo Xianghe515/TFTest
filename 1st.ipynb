{
 "cells": [
  {
   "cell_type": "code",
   "execution_count": null,
   "metadata": {},
   "outputs": [],
   "source": [
    "print('Python')"
   ]
  },
  {
   "cell_type": "code",
   "execution_count": null,
   "metadata": {},
   "outputs": [],
   "source": [
    "# TensorFlow 설치\n",
    "%pip install tensorflow"
   ]
  },
  {
   "cell_type": "code",
   "execution_count": null,
   "metadata": {},
   "outputs": [],
   "source": [
    "import tensorflow as tf; print(tf.reduce_sum(tf.random.normal([1000, 1000])))"
   ]
  },
  {
   "cell_type": "code",
   "execution_count": null,
   "metadata": {},
   "outputs": [],
   "source": [
    "%pip install tensorflow-datasets"
   ]
  },
  {
   "cell_type": "code",
   "execution_count": null,
   "metadata": {},
   "outputs": [],
   "source": [
    "import tensorflow as tf\n",
    "print(tf.__version__)"
   ]
  },
  {
   "cell_type": "code",
   "execution_count": null,
   "metadata": {},
   "outputs": [],
   "source": [
    "import tensorflow as tf\n",
    "import numpy as np\n",
    "x = np.random.sample((100, 3))      # 행, 열 형태로 난수 생성\n",
    "dataset = tf.data.Dataset.from_tensor_slices(x)\n",
    "dataset"
   ]
  },
  {
   "cell_type": "code",
   "execution_count": null,
   "metadata": {},
   "outputs": [],
   "source": [
    "# tensorflow_datasets 패키지 호출\n",
    "import tensorflow_datasets as tfds\n",
    "ds = tfds.load('mnist', split='train', shuffle_files=True)"
   ]
  },
  {
   "cell_type": "code",
   "execution_count": 10,
   "metadata": {},
   "outputs": [],
   "source": [
    "# 케라스에서 제공하는 데이터셋 사용\n",
    "import tensorflow as tf\n",
    "data_train, data_test = tf.keras.datasets.mnist.load_data()     # 케라스를 이용한 MNIST 데이터셋 내려받기\n",
    "(image_train, labels_train) = data_train\n",
    "(image_test, labels_test) = data_test"
   ]
  },
  {
   "cell_type": "code",
   "execution_count": null,
   "metadata": {},
   "outputs": [],
   "source": [
    "# 인터넷에서 데이터셋을 로컬 컴퓨터에 내려받아 사용\n",
    "# tf.keras.utils.get_file 메소드 사용\n",
    "import tensorflow as tf\n",
    "url = 'https://storage.googleapis.com/download.tensorflow.org/data/illiad/butler.txt'\n",
    "text_path = tf.keras.utils.get_file(\"butler.txt\", origin=url)"
   ]
  },
  {
   "cell_type": "code",
   "execution_count": null,
   "metadata": {},
   "outputs": [],
   "source": [
    "import pandas as pd\n",
    "import numpy as np\n",
    "import tensorflow as tf\n",
    "\n",
    "import matplotlib.pyplot as plt\n",
    "%matplotlib inline\n",
    "\n",
    "import seaborn as sns\n",
    "sns.set(style=\"darkgrid\")\n",
    "\n",
    "cols = ['price', 'maint', 'doors', 'persons', 'lug_capacity', 'safety', 'output']\n",
    "# pandas는 dataframe으로 csv 파일을 읽어올 수 있는 함수를 가지고 있음\n",
    "# pd.read_csv() 함수를 통해 데이터를 데이터 프레임으로 불러옴\n",
    "cars = pd.read_csv('data/car_evaluation.csv', names=cols, header=None)\n",
    "cars.info()\n",
    "\n",
    "plot_size = plt.rcParams[\"figure.figsize\"]\n",
    "plot_size [0] = 8\n",
    "plot_size [1] = 6\n",
    "plt.rcParams[\"figure.figsize\"] = plot_size\n",
    "cars.output.value_counts().plot(\n",
    "    kind='pie', autopct='%0.05f%%', \n",
    "    colors=['lightblue', 'lightgreen', 'orange', 'pink'], \n",
    "    explode=(0.05,0.05,0.05,0.05)\n",
    "    )\n"
   ]
  },
  {
   "cell_type": "code",
   "execution_count": null,
   "metadata": {},
   "outputs": [],
   "source": [
    "# 전처리 작업 - 범위 정보를 변환하기 위한 작업\n",
    "# 원-핫 인코딩\n",
    "price = pd.get_dummies(cars.price, prefix='price')\n",
    "maint = pd.get_dummies(cars.maint, prefix='maint')\n",
    "doors = pd.get_dummies(cars.maint, prefix='doors')\n",
    "persons = pd.get_dummies(cars.persons, prefix='persons')\n",
    "lug_capacity = pd.get_dummies(cars.lug_capacity, prefix='lug_capacity')\n",
    "safety= pd.get_dummies(cars.safety, prefix='safety')\n",
    "labels= pd.get_dummies(cars.output, prefix='conditions')\n",
    "\n",
    "X = pd.concat([price, maint, doors, persons, lug_capacity, safety], axis=1)\n",
    "Y = labels.values       # numpy의  array로 변환       *R에서 사용하는 배열과 같다고 생각하면 됨"
   ]
  },
  {
   "cell_type": "code",
   "execution_count": null,
   "metadata": {},
   "outputs": [],
   "source": [
    "from sklearn.model_selection import train_test_split\n",
    "\n",
    "X_train, X_test, Y_train, Y_test = train_test_split(\n",
    "    X, Y, test_size=0.20, random_state=42\n",
    ")\n",
    "\n",
    "# 모델 생성 및 컴파일\n",
    "from tensorflow.keras.layers import Input, Dense, Activation, Dropout # type: ignore\n",
    "from tensorflow.keras.models import Model # type: ignore\n",
    "\n",
    "input_layer = Input(shape=(X.shape[1], ))\n",
    "dense_layer_1 = Dense(15, activation='relu')(input_layer)\n",
    "dense_layer_2 = Dense(10, activation='relu')(dense_layer_1)\n",
    "output = Dense(Y.shape[1], activation='softmax')(dense_layer_2)\n",
    "\n",
    "model = Model(inputs=input_layer, outputs=output)\n",
    "\n",
    "model.compile(loss='categorical_crossentropy', optimizer='adam', metrics=['acc'])\n",
    "\n",
    "model.summary()"
   ]
  },
  {
   "cell_type": "code",
   "execution_count": null,
   "metadata": {},
   "outputs": [],
   "source": [
    "# 모델 훈련\n",
    "model.fit(X_train, Y_train, batch_size=8, epochs=50, verbose=1, validation_split=0.2)"
   ]
  },
  {
   "cell_type": "code",
   "execution_count": null,
   "metadata": {},
   "outputs": [],
   "source": [
    "# 모델 평가\n",
    "score = model.evaluate(X_test, Y_test, verbose=1)\n",
    "\n",
    "print(\"Test Score : \", score[0])            \n",
    "print(\"Test Accuracy : \", score[1])"
   ]
  },
  {
   "cell_type": "code",
   "execution_count": null,
   "metadata": {},
   "outputs": [],
   "source": [
    "# 텐서 보드 사용 - 훈련 과정 모니터링\n",
    "# 1. log_dir 지정 (./log/fit/)\n",
    "log_dir = \"logs/fit/\"\n",
    "# 2. tensorboard_callback\n",
    "tensorboard_callback = tf.keras.callbacks.TensorBoard(\n",
    "    log_dir=log_dir,\n",
    "    histogram_freq=1\n",
    ")\n",
    "model.fit(X_train, Y_train, batch_size=8, epochs=50, verbose=1, validation_split=0.2,\n",
    "          callbacks=[tensorboard_callback])"
   ]
  },
  {
   "cell_type": "code",
   "execution_count": null,
   "metadata": {},
   "outputs": [],
   "source": [
    "# tensorboard 서버 실행\n",
    "!tensorboard --logdir=./logs/fit/"
   ]
  }
 ],
 "metadata": {
  "kernelspec": {
   "display_name": "venv",
   "language": "python",
   "name": "python3"
  },
  "language_info": {
   "codemirror_mode": {
    "name": "ipython",
    "version": 3
   },
   "file_extension": ".py",
   "mimetype": "text/x-python",
   "name": "python",
   "nbconvert_exporter": "python",
   "pygments_lexer": "ipython3",
   "version": "3.12.8"
  }
 },
 "nbformat": 4,
 "nbformat_minor": 2
}
