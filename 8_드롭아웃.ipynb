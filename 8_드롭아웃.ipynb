{
 "cells": [
  {
   "cell_type": "code",
   "execution_count": 1,
   "metadata": {},
   "outputs": [
    {
     "name": "stdout",
     "output_type": "stream",
     "text": [
      "Collecting tensorflow-datasets==4.9.3\n",
      "  Downloading tensorflow_datasets-4.9.3-py3-none-any.whl.metadata (9.3 kB)\n",
      "Requirement already satisfied: absl-py in d:\\kim\\tensorflow\\venv\\lib\\site-packages (from tensorflow-datasets==4.9.3) (2.1.0)\n",
      "Collecting array-record (from tensorflow-datasets==4.9.3)\n",
      "  Downloading array_record-0.4.1-py310-none-any.whl.metadata (503 bytes)\n",
      "Requirement already satisfied: click in d:\\kim\\tensorflow\\venv\\lib\\site-packages (from tensorflow-datasets==4.9.3) (8.1.8)\n",
      "Requirement already satisfied: dm-tree in d:\\kim\\tensorflow\\venv\\lib\\site-packages (from tensorflow-datasets==4.9.3) (0.1.8)\n",
      "Requirement already satisfied: etils>=0.9.0 in d:\\kim\\tensorflow\\venv\\lib\\site-packages (from etils[enp,epath,etree]>=0.9.0->tensorflow-datasets==4.9.3) (1.11.0)\n",
      "Requirement already satisfied: numpy in d:\\kim\\tensorflow\\venv\\lib\\site-packages (from tensorflow-datasets==4.9.3) (1.26.4)\n",
      "Requirement already satisfied: promise in d:\\kim\\tensorflow\\venv\\lib\\site-packages (from tensorflow-datasets==4.9.3) (2.3)\n",
      "Requirement already satisfied: protobuf>=3.20 in d:\\kim\\tensorflow\\venv\\lib\\site-packages (from tensorflow-datasets==4.9.3) (4.25.5)\n",
      "Requirement already satisfied: psutil in d:\\kim\\tensorflow\\venv\\lib\\site-packages (from tensorflow-datasets==4.9.3) (6.1.1)\n",
      "Requirement already satisfied: requests>=2.19.0 in d:\\kim\\tensorflow\\venv\\lib\\site-packages (from tensorflow-datasets==4.9.3) (2.32.3)\n",
      "Requirement already satisfied: tensorflow-metadata in d:\\kim\\tensorflow\\venv\\lib\\site-packages (from tensorflow-datasets==4.9.3) (1.16.1)\n",
      "Requirement already satisfied: termcolor in d:\\kim\\tensorflow\\venv\\lib\\site-packages (from tensorflow-datasets==4.9.3) (2.5.0)\n",
      "Requirement already satisfied: toml in d:\\kim\\tensorflow\\venv\\lib\\site-packages (from tensorflow-datasets==4.9.3) (0.10.2)\n",
      "Requirement already satisfied: tqdm in d:\\kim\\tensorflow\\venv\\lib\\site-packages (from tensorflow-datasets==4.9.3) (4.67.1)\n",
      "Requirement already satisfied: wrapt in d:\\kim\\tensorflow\\venv\\lib\\site-packages (from tensorflow-datasets==4.9.3) (1.17.1)\n",
      "Requirement already satisfied: fsspec in d:\\kim\\tensorflow\\venv\\lib\\site-packages (from etils[enp,epath,etree]>=0.9.0->tensorflow-datasets==4.9.3) (2024.12.0)\n",
      "Requirement already satisfied: importlib_resources in d:\\kim\\tensorflow\\venv\\lib\\site-packages (from etils[enp,epath,etree]>=0.9.0->tensorflow-datasets==4.9.3) (6.5.2)\n",
      "Requirement already satisfied: typing_extensions in d:\\kim\\tensorflow\\venv\\lib\\site-packages (from etils[enp,epath,etree]>=0.9.0->tensorflow-datasets==4.9.3) (4.12.2)\n",
      "Requirement already satisfied: zipp in d:\\kim\\tensorflow\\venv\\lib\\site-packages (from etils[enp,epath,etree]>=0.9.0->tensorflow-datasets==4.9.3) (3.21.0)\n",
      "Requirement already satisfied: charset-normalizer<4,>=2 in d:\\kim\\tensorflow\\venv\\lib\\site-packages (from requests>=2.19.0->tensorflow-datasets==4.9.3) (3.4.1)\n",
      "Requirement already satisfied: idna<4,>=2.5 in d:\\kim\\tensorflow\\venv\\lib\\site-packages (from requests>=2.19.0->tensorflow-datasets==4.9.3) (3.10)\n",
      "Requirement already satisfied: urllib3<3,>=1.21.1 in d:\\kim\\tensorflow\\venv\\lib\\site-packages (from requests>=2.19.0->tensorflow-datasets==4.9.3) (2.3.0)\n",
      "Requirement already satisfied: certifi>=2017.4.17 in d:\\kim\\tensorflow\\venv\\lib\\site-packages (from requests>=2.19.0->tensorflow-datasets==4.9.3) (2024.12.14)\n",
      "Requirement already satisfied: colorama in d:\\kim\\tensorflow\\venv\\lib\\site-packages (from click->tensorflow-datasets==4.9.3) (0.4.6)\n",
      "Requirement already satisfied: six in d:\\kim\\tensorflow\\venv\\lib\\site-packages (from promise->tensorflow-datasets==4.9.3) (1.17.0)\n",
      "Requirement already satisfied: googleapis-common-protos<2,>=1.56.4 in d:\\kim\\tensorflow\\venv\\lib\\site-packages (from tensorflow-metadata->tensorflow-datasets==4.9.3) (1.66.0)\n",
      "Downloading tensorflow_datasets-4.9.3-py3-none-any.whl (5.0 MB)\n",
      "   ---------------------------------------- 0.0/5.0 MB ? eta -:--:--\n",
      "   ---------------------------------------- 5.0/5.0 MB 43.6 MB/s eta 0:00:00\n",
      "Downloading array_record-0.4.1-py310-none-any.whl (3.0 MB)\n",
      "   ---------------------------------------- 0.0/3.0 MB ? eta -:--:--\n",
      "   ---------------------------------------- 3.0/3.0 MB 44.4 MB/s eta 0:00:00\n",
      "Installing collected packages: array-record, tensorflow-datasets\n",
      "  Attempting uninstall: tensorflow-datasets\n",
      "    Found existing installation: tensorflow-datasets 4.9.7\n",
      "    Uninstalling tensorflow-datasets-4.9.7:\n",
      "      Successfully uninstalled tensorflow-datasets-4.9.7\n",
      "Successfully installed array-record-0.4.1 tensorflow-datasets-4.9.3\n",
      "Note: you may need to restart the kernel to use updated packages.\n",
      "Collecting tfds-nightly==4.9.3.dev202311210044\n",
      "  Downloading tfds_nightly-4.9.3.dev202311210044-py3-none-any.whl.metadata (9.3 kB)\n",
      "Requirement already satisfied: absl-py in d:\\kim\\tensorflow\\venv\\lib\\site-packages (from tfds-nightly==4.9.3.dev202311210044) (2.1.0)\n",
      "Requirement already satisfied: click in d:\\kim\\tensorflow\\venv\\lib\\site-packages (from tfds-nightly==4.9.3.dev202311210044) (8.1.8)\n",
      "Requirement already satisfied: dm-tree in d:\\kim\\tensorflow\\venv\\lib\\site-packages (from tfds-nightly==4.9.3.dev202311210044) (0.1.8)\n",
      "Requirement already satisfied: etils>=0.9.0 in d:\\kim\\tensorflow\\venv\\lib\\site-packages (from etils[enp,epath,etree]>=0.9.0->tfds-nightly==4.9.3.dev202311210044) (1.11.0)\n",
      "Requirement already satisfied: numpy in d:\\kim\\tensorflow\\venv\\lib\\site-packages (from tfds-nightly==4.9.3.dev202311210044) (1.26.4)\n",
      "Requirement already satisfied: promise in d:\\kim\\tensorflow\\venv\\lib\\site-packages (from tfds-nightly==4.9.3.dev202311210044) (2.3)\n",
      "Requirement already satisfied: protobuf>=3.20 in d:\\kim\\tensorflow\\venv\\lib\\site-packages (from tfds-nightly==4.9.3.dev202311210044) (4.25.5)\n",
      "Requirement already satisfied: psutil in d:\\kim\\tensorflow\\venv\\lib\\site-packages (from tfds-nightly==4.9.3.dev202311210044) (6.1.1)\n",
      "Requirement already satisfied: requests>=2.19.0 in d:\\kim\\tensorflow\\venv\\lib\\site-packages (from tfds-nightly==4.9.3.dev202311210044) (2.32.3)\n",
      "Requirement already satisfied: tensorflow-metadata in d:\\kim\\tensorflow\\venv\\lib\\site-packages (from tfds-nightly==4.9.3.dev202311210044) (1.16.1)\n",
      "Requirement already satisfied: termcolor in d:\\kim\\tensorflow\\venv\\lib\\site-packages (from tfds-nightly==4.9.3.dev202311210044) (2.5.0)\n",
      "Requirement already satisfied: toml in d:\\kim\\tensorflow\\venv\\lib\\site-packages (from tfds-nightly==4.9.3.dev202311210044) (0.10.2)\n",
      "Requirement already satisfied: tqdm in d:\\kim\\tensorflow\\venv\\lib\\site-packages (from tfds-nightly==4.9.3.dev202311210044) (4.67.1)\n",
      "Requirement already satisfied: wrapt in d:\\kim\\tensorflow\\venv\\lib\\site-packages (from tfds-nightly==4.9.3.dev202311210044) (1.17.1)\n",
      "Requirement already satisfied: fsspec in d:\\kim\\tensorflow\\venv\\lib\\site-packages (from etils[enp,epath,etree]>=0.9.0->tfds-nightly==4.9.3.dev202311210044) (2024.12.0)\n",
      "Requirement already satisfied: importlib_resources in d:\\kim\\tensorflow\\venv\\lib\\site-packages (from etils[enp,epath,etree]>=0.9.0->tfds-nightly==4.9.3.dev202311210044) (6.5.2)\n",
      "Requirement already satisfied: typing_extensions in d:\\kim\\tensorflow\\venv\\lib\\site-packages (from etils[enp,epath,etree]>=0.9.0->tfds-nightly==4.9.3.dev202311210044) (4.12.2)\n",
      "Requirement already satisfied: zipp in d:\\kim\\tensorflow\\venv\\lib\\site-packages (from etils[enp,epath,etree]>=0.9.0->tfds-nightly==4.9.3.dev202311210044) (3.21.0)\n",
      "Requirement already satisfied: charset-normalizer<4,>=2 in d:\\kim\\tensorflow\\venv\\lib\\site-packages (from requests>=2.19.0->tfds-nightly==4.9.3.dev202311210044) (3.4.1)\n",
      "Requirement already satisfied: idna<4,>=2.5 in d:\\kim\\tensorflow\\venv\\lib\\site-packages (from requests>=2.19.0->tfds-nightly==4.9.3.dev202311210044) (3.10)\n",
      "Requirement already satisfied: urllib3<3,>=1.21.1 in d:\\kim\\tensorflow\\venv\\lib\\site-packages (from requests>=2.19.0->tfds-nightly==4.9.3.dev202311210044) (2.3.0)\n",
      "Requirement already satisfied: certifi>=2017.4.17 in d:\\kim\\tensorflow\\venv\\lib\\site-packages (from requests>=2.19.0->tfds-nightly==4.9.3.dev202311210044) (2024.12.14)\n",
      "Requirement already satisfied: colorama in d:\\kim\\tensorflow\\venv\\lib\\site-packages (from click->tfds-nightly==4.9.3.dev202311210044) (0.4.6)\n",
      "Requirement already satisfied: six in d:\\kim\\tensorflow\\venv\\lib\\site-packages (from promise->tfds-nightly==4.9.3.dev202311210044) (1.17.0)\n",
      "Requirement already satisfied: googleapis-common-protos<2,>=1.56.4 in d:\\kim\\tensorflow\\venv\\lib\\site-packages (from tensorflow-metadata->tfds-nightly==4.9.3.dev202311210044) (1.66.0)\n",
      "Downloading tfds_nightly-4.9.3.dev202311210044-py3-none-any.whl (5.0 MB)\n",
      "   ---------------------------------------- 0.0/5.0 MB ? eta -:--:--\n",
      "   --------------------------------- ------ 4.2/5.0 MB 22.9 MB/s eta 0:00:01\n",
      "   ---------------------------------------- 5.0/5.0 MB 23.6 MB/s eta 0:00:00\n",
      "Installing collected packages: tfds-nightly\n",
      "Successfully installed tfds-nightly-4.9.3.dev202311210044\n",
      "Note: you may need to restart the kernel to use updated packages.\n",
      "Collecting ipywidgets\n",
      "  Downloading ipywidgets-8.1.5-py3-none-any.whl.metadata (2.3 kB)\n",
      "Requirement already satisfied: comm>=0.1.3 in d:\\kim\\tensorflow\\venv\\lib\\site-packages (from ipywidgets) (0.2.2)\n",
      "Requirement already satisfied: ipython>=6.1.0 in d:\\kim\\tensorflow\\venv\\lib\\site-packages (from ipywidgets) (8.31.0)\n",
      "Requirement already satisfied: traitlets>=4.3.1 in d:\\kim\\tensorflow\\venv\\lib\\site-packages (from ipywidgets) (5.14.3)\n",
      "Collecting widgetsnbextension~=4.0.12 (from ipywidgets)\n",
      "  Downloading widgetsnbextension-4.0.13-py3-none-any.whl.metadata (1.6 kB)\n",
      "Collecting jupyterlab-widgets~=3.0.12 (from ipywidgets)\n",
      "  Downloading jupyterlab_widgets-3.0.13-py3-none-any.whl.metadata (4.1 kB)\n",
      "Requirement already satisfied: colorama in d:\\kim\\tensorflow\\venv\\lib\\site-packages (from ipython>=6.1.0->ipywidgets) (0.4.6)\n",
      "Requirement already satisfied: decorator in d:\\kim\\tensorflow\\venv\\lib\\site-packages (from ipython>=6.1.0->ipywidgets) (5.1.1)\n",
      "Requirement already satisfied: jedi>=0.16 in d:\\kim\\tensorflow\\venv\\lib\\site-packages (from ipython>=6.1.0->ipywidgets) (0.19.2)\n",
      "Requirement already satisfied: matplotlib-inline in d:\\kim\\tensorflow\\venv\\lib\\site-packages (from ipython>=6.1.0->ipywidgets) (0.1.7)\n",
      "Requirement already satisfied: prompt_toolkit<3.1.0,>=3.0.41 in d:\\kim\\tensorflow\\venv\\lib\\site-packages (from ipython>=6.1.0->ipywidgets) (3.0.48)\n",
      "Requirement already satisfied: pygments>=2.4.0 in d:\\kim\\tensorflow\\venv\\lib\\site-packages (from ipython>=6.1.0->ipywidgets) (2.19.1)\n",
      "Requirement already satisfied: stack_data in d:\\kim\\tensorflow\\venv\\lib\\site-packages (from ipython>=6.1.0->ipywidgets) (0.6.3)\n",
      "Requirement already satisfied: parso<0.9.0,>=0.8.4 in d:\\kim\\tensorflow\\venv\\lib\\site-packages (from jedi>=0.16->ipython>=6.1.0->ipywidgets) (0.8.4)\n",
      "Requirement already satisfied: wcwidth in d:\\kim\\tensorflow\\venv\\lib\\site-packages (from prompt_toolkit<3.1.0,>=3.0.41->ipython>=6.1.0->ipywidgets) (0.2.13)\n",
      "Requirement already satisfied: executing>=1.2.0 in d:\\kim\\tensorflow\\venv\\lib\\site-packages (from stack_data->ipython>=6.1.0->ipywidgets) (2.1.0)\n",
      "Requirement already satisfied: asttokens>=2.1.0 in d:\\kim\\tensorflow\\venv\\lib\\site-packages (from stack_data->ipython>=6.1.0->ipywidgets) (3.0.0)\n",
      "Requirement already satisfied: pure-eval in d:\\kim\\tensorflow\\venv\\lib\\site-packages (from stack_data->ipython>=6.1.0->ipywidgets) (0.2.3)\n",
      "Downloading ipywidgets-8.1.5-py3-none-any.whl (139 kB)\n",
      "Downloading jupyterlab_widgets-3.0.13-py3-none-any.whl (214 kB)\n",
      "Downloading widgetsnbextension-4.0.13-py3-none-any.whl (2.3 MB)\n",
      "   ---------------------------------------- 0.0/2.3 MB ? eta -:--:--\n",
      "   ---- ----------------------------------- 0.3/2.3 MB ? eta -:--:--\n",
      "   ---------------------------------------- 2.3/2.3 MB 9.5 MB/s eta 0:00:00\n",
      "Installing collected packages: widgetsnbextension, jupyterlab-widgets, ipywidgets\n",
      "Successfully installed ipywidgets-8.1.5 jupyterlab-widgets-3.0.13 widgetsnbextension-4.0.13\n",
      "Note: you may need to restart the kernel to use updated packages.\n"
     ]
    }
   ],
   "source": [
    "%pip install tensorflow-datasets==4.9.3\n",
    "# tfds-nightly 설치\n",
    "%pip install tfds-nightly==4.9.3.dev202311210044\n",
    "%pip install ipywidgets"
   ]
  },
  {
   "cell_type": "code",
   "execution_count": 1,
   "metadata": {},
   "outputs": [],
   "source": [
    "# 드롭아웃 예제\n",
    "# 라이브러리\n",
    "import tensorflow_datasets as tfds\n",
    "import tensorflow as tf"
   ]
  },
  {
   "cell_type": "code",
   "execution_count": 2,
   "metadata": {},
   "outputs": [
    {
     "name": "stderr",
     "output_type": "stream",
     "text": [
      "WARNING:absl:TFDS datasets with text encoding are deprecated and will be removed in a future version. Instead, you should use the plain text version and tokenize the text using `tensorflow_text` (See: https://www.tensorflow.org/tutorials/tensorflow_text/intro#tfdata_example)\n"
     ]
    },
    {
     "name": "stdout",
     "output_type": "stream",
     "text": [
      "\u001b[1mDownloading and preparing dataset Unknown size (download: Unknown size, generated: Unknown size, total: Unknown size) to C:\\Users\\tkdgu\\tensorflow_datasets\\imdb_reviews\\subwords8k\\1.0.0...\u001b[0m\n"
     ]
    },
    {
     "data": {
      "application/vnd.jupyter.widget-view+json": {
       "model_id": "b3f269d80d8a4c38bb5388d60f0ad35d",
       "version_major": 2,
       "version_minor": 0
      },
      "text/plain": [
       "Dl Completed...: 0 url [00:00, ? url/s]"
      ]
     },
     "metadata": {},
     "output_type": "display_data"
    },
    {
     "data": {
      "application/vnd.jupyter.widget-view+json": {
       "model_id": "521b0e52aa624ca08eb0ccefdecb386c",
       "version_major": 2,
       "version_minor": 0
      },
      "text/plain": [
       "Dl Size...: 0 MiB [00:00, ? MiB/s]"
      ]
     },
     "metadata": {},
     "output_type": "display_data"
    },
    {
     "data": {
      "application/vnd.jupyter.widget-view+json": {
       "model_id": "e8b7176c30dc4d57a1cb2a344158febc",
       "version_major": 2,
       "version_minor": 0
      },
      "text/plain": [
       "Generating splits...:   0%|          | 0/3 [00:00<?, ? splits/s]"
      ]
     },
     "metadata": {},
     "output_type": "display_data"
    },
    {
     "data": {
      "application/vnd.jupyter.widget-view+json": {
       "model_id": "709ab876580548d79f45c3acc6cd5a38",
       "version_major": 2,
       "version_minor": 0
      },
      "text/plain": [
       "Generating train examples...: 0 examples [00:00, ? examples/s]"
      ]
     },
     "metadata": {},
     "output_type": "display_data"
    },
    {
     "data": {
      "application/vnd.jupyter.widget-view+json": {
       "model_id": "a091662f29a94f21a7ac0aecb60b7437",
       "version_major": 2,
       "version_minor": 0
      },
      "text/plain": [
       "Shuffling C:\\Users\\tkdgu\\tensorflow_datasets\\imdb_reviews\\subwords8k\\1.0.0.incomplete2BE0J8\\imdb_reviews-train…"
      ]
     },
     "metadata": {},
     "output_type": "display_data"
    },
    {
     "data": {
      "application/vnd.jupyter.widget-view+json": {
       "model_id": "49f1c456bae74c29a4499aaf793bad55",
       "version_major": 2,
       "version_minor": 0
      },
      "text/plain": [
       "Generating test examples...: 0 examples [00:00, ? examples/s]"
      ]
     },
     "metadata": {},
     "output_type": "display_data"
    },
    {
     "data": {
      "application/vnd.jupyter.widget-view+json": {
       "model_id": "41f1460d78f14b2c8113061608ecc2b0",
       "version_major": 2,
       "version_minor": 0
      },
      "text/plain": [
       "Shuffling C:\\Users\\tkdgu\\tensorflow_datasets\\imdb_reviews\\subwords8k\\1.0.0.incomplete2BE0J8\\imdb_reviews-test.…"
      ]
     },
     "metadata": {},
     "output_type": "display_data"
    },
    {
     "data": {
      "application/vnd.jupyter.widget-view+json": {
       "model_id": "5280990248d74f8bbe4676f755fd1a43",
       "version_major": 2,
       "version_minor": 0
      },
      "text/plain": [
       "Generating unsupervised examples...: 0 examples [00:00, ? examples/s]"
      ]
     },
     "metadata": {},
     "output_type": "display_data"
    },
    {
     "data": {
      "application/vnd.jupyter.widget-view+json": {
       "model_id": "8037e48c02bc46db919f93390551b7b7",
       "version_major": 2,
       "version_minor": 0
      },
      "text/plain": [
       "Shuffling C:\\Users\\tkdgu\\tensorflow_datasets\\imdb_reviews\\subwords8k\\1.0.0.incomplete2BE0J8\\imdb_reviews-unsup…"
      ]
     },
     "metadata": {},
     "output_type": "display_data"
    },
    {
     "name": "stderr",
     "output_type": "stream",
     "text": [
      "WARNING:absl:Dataset is using deprecated text encoder API which will be removed soon. Please use the plain_text version of the dataset and migrate to `tensorflow_text`.\n"
     ]
    },
    {
     "name": "stdout",
     "output_type": "stream",
     "text": [
      "\u001b[1mDataset imdb_reviews downloaded and prepared to C:\\Users\\tkdgu\\tensorflow_datasets\\imdb_reviews\\subwords8k\\1.0.0. Subsequent calls will reuse this data.\u001b[0m\n"
     ]
    }
   ],
   "source": [
    "# imdb_reviews에 토큰화와 변환을 거친 자료\n",
    "(train_data, test_data), info = tfds.load(\n",
    "    'imdb_reviews/subwords8k',\n",
    "    split = (tfds.Split.TRAIN, tfds.Split.TEST),\n",
    "    with_info=True,\n",
    "    as_supervised=True\n",
    ")\n",
    "padded_shapes = ([None], ())\n",
    "train_batches = train_data.shuffle(1000).padded_batch(10, padded_shapes=padded_shapes)\n",
    "test_batches = test_data.shuffle(1000).padded_batch(10, padded_shapes=padded_shapes)\n"
   ]
  },
  {
   "cell_type": "code",
   "execution_count": 3,
   "metadata": {},
   "outputs": [
    {
     "data": {
      "text/plain": [
       "array([[ 298,  582,    1, ...,    0,    0,    0],\n",
       "       [  12,  270, 7516, ..., 2694, 2139, 7975],\n",
       "       [  62,   18,  252, ...,    0,    0,    0],\n",
       "       ...,\n",
       "       [ 884, 2142, 4488, ...,    0,    0,    0],\n",
       "       [8002, 7968,  123, ...,    0,    0,    0],\n",
       "       [  12,   96,  579, ...,    0,    0,    0]], dtype=int64)"
      ]
     },
     "execution_count": 3,
     "metadata": {},
     "output_type": "execute_result"
    }
   ],
   "source": [
    "train_batch, train_labels = next(iter(train_batches))\n",
    "train_batch.numpy()"
   ]
  },
  {
   "cell_type": "code",
   "execution_count": 4,
   "metadata": {},
   "outputs": [],
   "source": [
    "# info는 메타 정보에서 encoder 정보 추출\n",
    "encoder = info.features['text'].encoder\n",
    "# 모델 생성\n",
    "model1 = tf.keras.Sequential([\n",
    "    tf.keras.layers.Embedding(encoder.vocab_size, 64),    # 임베딩층은 단어 하나당 하나의 벡터로 저장\n",
    "    tf.keras.layers.LSTM(64),   # *tf.keras.layers.Bidirectional(tf.keras.layers.LSTM(64)) - 양방향, 훈련 정확도 높아짐\n",
    "    tf.keras.layers.Dense(64, activation='relu'),\n",
    "    tf.keras.layers.Dense(1, activation='sigmoid')\n",
    "])"
   ]
  },
  {
   "cell_type": "code",
   "execution_count": 5,
   "metadata": {},
   "outputs": [
    {
     "name": "stdout",
     "output_type": "stream",
     "text": [
      "Epoch 1/5\n",
      "\u001b[1m2500/2500\u001b[0m \u001b[32m━━━━━━━━━━━━━━━━━━━━\u001b[0m\u001b[37m\u001b[0m \u001b[1m272s\u001b[0m 108ms/step - accuracy: 0.5038 - loss: 0.6936 - val_accuracy: 0.5033 - val_loss: 0.6866\n",
      "Epoch 2/5\n",
      "\u001b[1m2500/2500\u001b[0m \u001b[32m━━━━━━━━━━━━━━━━━━━━\u001b[0m\u001b[37m\u001b[0m \u001b[1m489s\u001b[0m 196ms/step - accuracy: 0.5112 - loss: 0.6829 - val_accuracy: 0.5100 - val_loss: 0.6800\n",
      "Epoch 3/5\n",
      "\u001b[1m2500/2500\u001b[0m \u001b[32m━━━━━━━━━━━━━━━━━━━━\u001b[0m\u001b[37m\u001b[0m \u001b[1m433s\u001b[0m 173ms/step - accuracy: 0.5281 - loss: 0.6695 - val_accuracy: 0.5133 - val_loss: 0.6829\n",
      "Epoch 4/5\n",
      "\u001b[1m2500/2500\u001b[0m \u001b[32m━━━━━━━━━━━━━━━━━━━━\u001b[0m\u001b[37m\u001b[0m \u001b[1m294s\u001b[0m 118ms/step - accuracy: 0.5304 - loss: 0.6569 - val_accuracy: 0.5467 - val_loss: 0.6820\n",
      "Epoch 5/5\n",
      "\u001b[1m2500/2500\u001b[0m \u001b[32m━━━━━━━━━━━━━━━━━━━━\u001b[0m\u001b[37m\u001b[0m \u001b[1m274s\u001b[0m 109ms/step - accuracy: 0.5451 - loss: 0.6543 - val_accuracy: 0.7067 - val_loss: 0.5893\n"
     ]
    }
   ],
   "source": [
    "# 모델 컴파일 및 훈련\n",
    "model1.compile(\n",
    "    optimizer='adam',\n",
    "    loss='binary_crossentropy',\n",
    "    metrics=['accuracy']\n",
    ")\n",
    "history1 = model1.fit(train_batches, epochs=5, validation_data=test_batches, validation_steps=30)"
   ]
  },
  {
   "cell_type": "code",
   "execution_count": 6,
   "metadata": {},
   "outputs": [
    {
     "data": {
      "image/png": "[encoded data removed]",
      "text/plain": [
       "<Figure size 400x300 with 1 Axes>"
      ]
     },
     "metadata": {},
     "output_type": "display_data"
    },
    {
     "data": {
      "image/png": "[encoded data removed]",
      "text/plain": [
       "<Figure size 400x300 with 1 Axes>"
      ]
     },
     "metadata": {},
     "output_type": "display_data"
    }
   ],
   "source": [
    "BUFFER_SIZE = 10000\n",
    "BATCH_SIZE = 64\n",
    "train_dataset = train_batches.shuffle(BUFFER_SIZE)\n",
    "import matplotlib.pyplot as plt\n",
    "history_dict = history1.history   # 훈련 시 출력 정보를 history_dict으로 저장\n",
    "acc = history_dict['accuracy']    # accuracy 정보(훈련 정확도)를 acc에 저장\n",
    "val_acc = history_dict['val_accuracy']  # val_accuracy(검증 정확도) 정보를 val_acc에 저장\n",
    "loss = history_dict['loss']       # loss(훈련 loss) 정보를 loss에 저장\n",
    "val_loss = history_dict['val_loss']  # val_loss(검증 loss) 정보를 val_loss에 저장\n",
    "epochs = range(1, len(acc) + 1)   # epochs 값을 [1 ~ 5] 값을 가지게 함. \n",
    "plt.figure(figsize=(4,3))           \n",
    "plt.plot(epochs, loss, 'bo', label='Training loss')     # Training loss 라는 이름으로 epochs별, loss를 'bo(점)'형식으로 표현\n",
    "plt.plot(epochs, val_loss, 'b', label='Validation loss')  # Validation loss 라는 이름으로 epochs별로, val_loss를 'b(선)'형식으로 표현\n",
    "plt.title('Training and validation loss')  # 그래프 타이틀\n",
    "plt.xlabel('Epochs')  # X축은 epochs 값\n",
    "plt.ylabel('Loss')    # Y축은 loss 값\n",
    "plt.legend()          # 범례 표시. 위치값이 없으면 자동으로 위치를 가져감\n",
    "plt.show()\n",
    "\n",
    "plt.figure(figsize=(4,3))\n",
    "plt.plot(epochs, acc, 'bo', label='Training acc')  # Training acc 라는 이름으로 epochs별, acc를 'bo(점)'형식으로 표현\n",
    "plt.plot(epochs, val_acc, 'b', label='Validation acc') # Validation acc 라는 이름으로 epochs별로, val_acc를 'b(선)'형식으로 표현\n",
    "plt.title('Training and validation accuracy') # 그래프 타이틀\n",
    "plt.xlabel('Epochs')\n",
    "plt.ylabel('Accuracy')\n",
    "plt.legend(loc='lower right')   # 범례 표시 (상단 우측)\n",
    "plt.ylim((0.5,1))\n",
    "plt.show()"
   ]
  },
  {
   "cell_type": "code",
   "execution_count": 7,
   "metadata": {},
   "outputs": [],
   "source": [
    "# Dropout을 적용한 모델을 생성\n",
    "# 모델 생성(드롭아웃 적용)\n",
    "model2 = tf.keras.Sequential([\n",
    "    tf.keras.layers.Embedding(encoder.vocab_size, 64),  \n",
    "    # tf.keras.layers.LSTM(64),  # Bidrectional()레이어로 변경... \n",
    "    tf.keras.layers.Bidirectional(tf.keras.layers.LSTM(64, return_sequences=True)),\n",
    "    tf.keras.layers.Bidirectional(tf.keras.layers.LSTM(32)),\n",
    "    tf.keras.layers.Dense(64, activation='relu'),\n",
    "    tf.keras.layers.Dropout(0.5),\n",
    "    tf.keras.layers.Dense(1, activation='sigmoid')\n",
    "])"
   ]
  },
  {
   "cell_type": "code",
   "execution_count": null,
   "metadata": {},
   "outputs": [
    {
     "name": "stdout",
     "output_type": "stream",
     "text": [
      "Epoch 1/5\n",
      "\u001b[1m2500/2500\u001b[0m \u001b[32m━━━━━━━━━━━━━━━━━━━━\u001b[0m\u001b[37m\u001b[0m \u001b[1m841s\u001b[0m 335ms/step - accuracy: 0.5949 - loss: 0.6498 - val_accuracy: 0.8033 - val_loss: 0.4557\n",
      "Epoch 2/5\n",
      "\u001b[1m2500/2500\u001b[0m \u001b[32m━━━━━━━━━━━━━━━━━━━━\u001b[0m\u001b[37m\u001b[0m \u001b[1m1094s\u001b[0m 437ms/step - accuracy: 0.7957 - loss: 0.4672 - val_accuracy: 0.8033 - val_loss: 0.4826\n",
      "Epoch 3/5\n",
      "\u001b[1m2500/2500\u001b[0m \u001b[32m━━━━━━━━━━━━━━━━━━━━\u001b[0m\u001b[37m\u001b[0m \u001b[1m4459s\u001b[0m 2s/step - accuracy: 0.7722 - loss: 0.5084 - val_accuracy: 0.7667 - val_loss: 0.5244\n",
      "Epoch 4/5\n",
      "\u001b[1m 771/2500\u001b[0m \u001b[32m━━━━━━\u001b[0m\u001b[37m━━━━━━━━━━━━━━\u001b[0m \u001b[1m11:09\u001b[0m 387ms/step - accuracy: 0.7838 - loss: 0.4900"
     ]
    }
   ],
   "source": [
    "# 훈련 작업 진행\n",
    "model2.compile(loss='binary_crossentropy',          \n",
    "              optimizer=tf.keras.optimizers.Adam(1e-4),metrics=['accuracy'])\n",
    "history2 = model2.fit(train_batches, epochs=5, validation_data=test_batches, validation_steps=30)"
   ]
  },
  {
   "cell_type": "code",
   "execution_count": null,
   "metadata": {},
   "outputs": [],
   "source": [
    "BUFFER_SIZE = 10000\n",
    "BATCH_SIZE = 64\n",
    "train_dataset = train_batches.shuffle(BUFFER_SIZE)\n",
    "import matplotlib.pyplot as plt\n",
    "history_dict = history2.history   # 훈련 시 출력 정보를 history_dict으로 저장\n",
    "acc = history_dict['accuracy']    # accuracy 정보(훈련 정확도)를 acc에 저장\n",
    "val_acc = history_dict['val_accuracy']  # val_accuracy(검증 정확도) 정보를 val_acc에 저장\n",
    "loss = history_dict['loss']       # loss(훈련 loss) 정보를 loss에 저장\n",
    "val_loss = history_dict['val_loss']  # val_loss(검증 loss) 정보를 val_loss에 저장\n",
    "epochs = range(1, len(acc) + 1)   # epochs 값을 [1 ~ 5] 값을 가지게 함. \n",
    "plt.figure(figsize=(4,3))         \n",
    "plt.plot(epochs, loss, 'bo', label='Training loss')     # Training loss 라는 이름으로 epochs별, loss를 'bo(점)'형식으로 표현\n",
    "plt.plot(epochs, val_loss, 'b', label='Validation loss')  # Validation loss 라는 이름으로 epochs별로, val_loss를 'b(선)'형식으로 표현\n",
    "plt.title('Training and validation loss')  # 그래프 타이틀\n",
    "plt.xlabel('Epochs')  # X축은 epochs 값\n",
    "plt.ylabel('Loss')    # Y축은 loss 값\n",
    "plt.legend()          # 범례 표시. 위치값이 없으면 자동으로 위치를 가져감\n",
    "plt.show()\n",
    "\n",
    "plt.figure(figsize=(4,3))\n",
    "plt.plot(epochs, acc, 'bo', label='Training acc')  # Training acc 라는 이름으로 epochs별, acc를 'bo(점)'형식으로 표현\n",
    "plt.plot(epochs, val_acc, 'b', label='Validation acc') # Validation acc 라는 이름으로 epochs별로, val_acc를 'b(선)'형식으로 표현\n",
    "plt.title('Training and validation accuracy') # 그래프 타이틀\n",
    "plt.xlabel('Epochs')\n",
    "plt.ylabel('Accuracy')\n",
    "plt.legend(loc='lower right')   # 범례 표시 (상단 우측)\n",
    "plt.ylim((0.5,1))\n",
    "plt.show()"
   ]
  },
  {
   "cell_type": "code",
   "execution_count": null,
   "metadata": {},
   "outputs": [],
   "source": []
  }
 ],
 "metadata": {
  "kernelspec": {
   "display_name": "venv",
   "language": "python",
   "name": "python3"
  },
  "language_info": {
   "codemirror_mode": {
    "name": "ipython",
    "version": 3
   },
   "file_extension": ".py",
   "mimetype": "text/x-python",
   "name": "python",
   "nbconvert_exporter": "python",
   "pygments_lexer": "ipython3",
   "version": "3.12.8"
  }
 },
 "nbformat": 4,
 "nbformat_minor": 2
}
